{
 "cells": [
  {
   "cell_type": "markdown",
   "metadata": {},
   "source": [
    "# Python Insights - Analisando Dados com Python\n",
    "\n",
    "### Case: Cancelamento de Clientes - Serviço de Streaming\n",
    "\n",
    "Você foi contratado por uma empresa com mais de 800 mil clientes para um projeto de Dados. Recentemente a empresa percebeu que da sua base total de clientes, a maioria são clientes inativos, ou seja, que já cancelaram o serviço.\n",
    "\n",
    "Precisando melhorar seus resultados, ela quer conseguir entender os principais motivos desses cancelamentos e quais as ações mais eficientes para reduzir esse número."
   ]
  },
  {
   "cell_type": "code",
   "execution_count": 10,
   "metadata": {},
   "outputs": [],
   "source": [
    "#!pip install pandas openpyxl numpy nbformat plotly ipykernel"
   ]
  },
  {
   "cell_type": "markdown",
   "metadata": {},
   "source": [
    "#### Passo 1: Importar a base de dados\n",
    "\n",
    "#### Passo 2: Visualizar a base de dados "
   ]
  },
  {
   "cell_type": "code",
   "execution_count": null,
   "metadata": {},
   "outputs": [],
   "source": [
    "import pandas as pd\n",
    "\n",
    "tabela = pd.read_csv(\"cancelamentos.csv\")\n",
    "tabela = tabela.drop(columns=\"CustomerID\")\n",
    "\n",
    "display(tabela)"
   ]
  },
  {
   "cell_type": "markdown",
   "metadata": {},
   "source": [
    "#### Passo 3: Resolver problemas da base de dados \n",
    "- Informações inúteis\n",
    "- Informações vazias\n",
    "- Informações no formato errado"
   ]
  },
  {
   "cell_type": "code",
   "execution_count": null,
   "metadata": {},
   "outputs": [],
   "source": [
    "display(tabela.info())\n",
    "\n",
    "#clientes com informações vazias -> descartar pois não vai prejudicar em nada por serem poucos\n",
    "tabela = tabela.dropna()\n",
    "display(tabela.info())"
   ]
  },
  {
   "cell_type": "markdown",
   "metadata": {},
   "source": [
    "#### Passo 4: Análise exploratória inicial\n",
    "- Quantos clientes cancelaram\n",
    "- Qual a % de clientes"
   ]
  },
  {
   "cell_type": "code",
   "execution_count": null,
   "metadata": {},
   "outputs": [],
   "source": [
    "# contar na coluna 'cancelou' os valores\n",
    "display(tabela[\"cancelou\"].value_counts())\n",
    "#1.0 -> cancelou\n",
    "#0.0 -> não cancelou\n",
    "\n",
    "#percentual\n",
    "display(tabela[\"cancelou\"].value_counts(normalize=True))\n",
    "#1.0 -> 56,7% cancelaram\n",
    "#0.0 -> 43,3% não cancelaram\n",
    "\n",
    "display(tabela[\"cancelou\"].value_counts(normalize=True).map(\"{:.1%}\".format))"
   ]
  },
  {
   "cell_type": "markdown",
   "metadata": {},
   "source": [
    "#### Passo 5: Análise da causa dos cancelamentos dos clientes\n",
    "*Como cada coluna da base de dados impacta no cancelamento do cliente*\n",
    "- Criar gráficos & Exibir gráficos"
   ]
  },
  {
   "cell_type": "code",
   "execution_count": null,
   "metadata": {},
   "outputs": [],
   "source": [
    "import plotly.express as px\n",
    "\n",
    "for coluna in tabela.columns:\n",
    "    #cria o gráfico\n",
    "    grafico = px.histogram(tabela, x=coluna, color=\"cancelou\")\n",
    "    #exibe o gráfico\n",
    "    grafico.show()"
   ]
  },
  {
   "cell_type": "markdown",
   "metadata": {},
   "source": [
    "#### Passo 6: Filtrar informações partir dos insights da análise\n",
    "*Como meus dados vão se comportar, assim que aplicar as \"soluções\" propostas?*\n",
    "- Testar comportamento EXCLUINDO o problema do callcenter\n",
    "    - CONDIÇÃO: ligações callcenter <= 4\n",
    "    - RETORNO: 64% não cancelaram | 36% cancelaram\n",
    "- Testar comportamento EXCLUINDO o problema do atraso no pagamento\n",
    "    - CONDIÇÃO: dias de atraso <=20\n",
    "    - RETORNO: 73% não cancelaram | 27% cancelaram\n",
    "- Testar comportamento EXCLUINDO o problema do contrato\n",
    "    - CONDIÇÃO: diferente de mensal\n",
    "    - RETORNO: 82% não cancelaram | 18% cancelaram"
   ]
  },
  {
   "cell_type": "code",
   "execution_count": null,
   "metadata": {},
   "outputs": [],
   "source": [
    "#condição resolvendo o problema do callcenter\n",
    "tabela = tabela[tabela[\"ligacoes_callcenter\"] <= 4]\n",
    "display(tabela[\"cancelou\"].value_counts(normalize=True))\n",
    "\n",
    "#condição resolvendo o problema dos dias de atraso\n",
    "tabela = tabela[tabela[\"dias_atraso\"] <= 20]\n",
    "display(tabela[\"cancelou\"].value_counts(normalize=True))\n",
    "\n",
    "#condição resolvendo o problema da duração do contrato\n",
    "tabela = tabela[tabela[\"duracao_contrato\"] != \"Monthly\"]\n",
    "display(tabela[\"cancelou\"].value_counts(normalize=True))"
   ]
  },
  {
   "cell_type": "markdown",
   "metadata": {},
   "source": [
    "# Observações + Soluções após análise:\n",
    "\n",
    "- Clientes que ligaram +de 4x para o callcenter -> cancelaram\n",
    "    - Criar um alerta quando o cliente ligar a 3a vez\n",
    "\n",
    "- Todos os clientes do contrato mensal -> cancelaram\n",
    "    - Aplicar desconto nos outros contratos\n",
    "\n",
    "- Todos os clientes que atrasaram +de 20 dias no pagamento -> cancelaram\n",
    "    - Criar alerta no time de cobrança quando o cliente bater 10 dias de atraso"
   ]
  }
 ],
 "metadata": {
  "kernelspec": {
   "display_name": "Python 3",
   "language": "python",
   "name": "python3"
  },
  "language_info": {
   "codemirror_mode": {
    "name": "ipython",
    "version": 3
   },
   "file_extension": ".py",
   "mimetype": "text/x-python",
   "name": "python",
   "nbconvert_exporter": "python",
   "pygments_lexer": "ipython3",
   "version": "3.13.2"
  },
  "orig_nbformat": 4
 },
 "nbformat": 4,
 "nbformat_minor": 2
}
